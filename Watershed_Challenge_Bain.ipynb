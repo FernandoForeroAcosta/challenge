{
 "cells": [
  {
   "cell_type": "markdown",
   "metadata": {},
   "source": [
    "## Watershed Exercise - Bain & Company AAG"
   ]
  },
  {
   "cell_type": "markdown",
   "metadata": {},
   "source": [
    "### EDA\n",
    "\n",
    "###### First we will perform EDA on the data to get as much information as we can, detect any outliers or anomalies, and get a full understanding of the struture of the data."
   ]
  },
  {
   "cell_type": "code",
   "execution_count": 196,
   "metadata": {},
   "outputs": [],
   "source": [
    "# Importing the necessary packages for this exercise\n",
    "import numpy as np # linear algebra\n",
    "import pandas as pd # data processing\n",
    "from datetime import timedelta\n",
    "\n",
    "# System\n",
    "import os\n",
    "import warnings\n",
    "warnings.filterwarnings(\"ignore\")\n",
    "\n",
    "# Visualizations\n",
    "import seaborn as sns\n",
    "import matplotlib.pyplot as plt\n",
    "import plotly.express as px\n",
    "\n",
    "# Algorithms that we might use\n",
    "from sklearn.model_selection import RandomizedSearchCV\n",
    "from sklearn.model_selection import train_test_split\n",
    "from sklearn import linear_model\n",
    "from sklearn.linear_model import LogisticRegression\n",
    "from sklearn.ensemble import RandomForestClassifier\n",
    "from sklearn.linear_model import Perceptron\n",
    "from sklearn.linear_model import SGDClassifier\n",
    "from sklearn.tree import DecisionTreeClassifier\n",
    "from sklearn.neighbors import KNeighborsClassifier\n",
    "import lightgbm as lgb\n",
    "from sklearn.svm import SVC, LinearSVC\n",
    "from sklearn.naive_bayes import GaussianNB\n",
    "from sklearn.model_selection import train_test_split"
   ]
  },
  {
   "cell_type": "code",
   "execution_count": 164,
   "metadata": {},
   "outputs": [],
   "source": [
    "# Exploring flux CSV\n",
    "\n",
    "# Loading the Datasets\n",
    "flux = pd.read_csv('C:\\\\Users\\\\fmfor\\\\Documents\\\\Bain\\\\flux.csv')"
   ]
  },
  {
   "cell_type": "code",
   "execution_count": 136,
   "metadata": {},
   "outputs": [
    {
     "data": {
      "text/html": [
       "<div>\n",
       "<style scoped>\n",
       "    .dataframe tbody tr th:only-of-type {\n",
       "        vertical-align: middle;\n",
       "    }\n",
       "\n",
       "    .dataframe tbody tr th {\n",
       "        vertical-align: top;\n",
       "    }\n",
       "\n",
       "    .dataframe thead th {\n",
       "        text-align: right;\n",
       "    }\n",
       "</style>\n",
       "<table border=\"1\" class=\"dataframe\">\n",
       "  <thead>\n",
       "    <tr style=\"text-align: right;\">\n",
       "      <th></th>\n",
       "      <th>date</th>\n",
       "      <th>basin_id</th>\n",
       "      <th>flux</th>\n",
       "      <th>precip</th>\n",
       "      <th>temp_max</th>\n",
       "      <th>gauge_name</th>\n",
       "      <th>lat</th>\n",
       "      <th>lon</th>\n",
       "      <th>mean_elev</th>\n",
       "      <th>area_km2</th>\n",
       "    </tr>\n",
       "  </thead>\n",
       "  <tbody>\n",
       "    <tr>\n",
       "      <th>0</th>\n",
       "      <td>1980-01-01</td>\n",
       "      <td>1001001</td>\n",
       "      <td>0.579</td>\n",
       "      <td>0.0</td>\n",
       "      <td>10.685653</td>\n",
       "      <td>Rio Caquena En Nacimiento</td>\n",
       "      <td>-18.0769</td>\n",
       "      <td>-69.1961</td>\n",
       "      <td>4842.449328</td>\n",
       "      <td>49.711859</td>\n",
       "    </tr>\n",
       "    <tr>\n",
       "      <th>1</th>\n",
       "      <td>1980-01-02</td>\n",
       "      <td>1001001</td>\n",
       "      <td>0.543</td>\n",
       "      <td>0.0</td>\n",
       "      <td>11.470960</td>\n",
       "      <td>Rio Caquena En Nacimiento</td>\n",
       "      <td>-18.0769</td>\n",
       "      <td>-69.1961</td>\n",
       "      <td>4842.449328</td>\n",
       "      <td>49.711859</td>\n",
       "    </tr>\n",
       "    <tr>\n",
       "      <th>2</th>\n",
       "      <td>1980-01-03</td>\n",
       "      <td>1001001</td>\n",
       "      <td>0.482</td>\n",
       "      <td>0.0</td>\n",
       "      <td>11.947457</td>\n",
       "      <td>Rio Caquena En Nacimiento</td>\n",
       "      <td>-18.0769</td>\n",
       "      <td>-69.1961</td>\n",
       "      <td>4842.449328</td>\n",
       "      <td>49.711859</td>\n",
       "    </tr>\n",
       "    <tr>\n",
       "      <th>3</th>\n",
       "      <td>1980-01-04</td>\n",
       "      <td>1001001</td>\n",
       "      <td>0.459</td>\n",
       "      <td>0.0</td>\n",
       "      <td>12.424489</td>\n",
       "      <td>Rio Caquena En Nacimiento</td>\n",
       "      <td>-18.0769</td>\n",
       "      <td>-69.1961</td>\n",
       "      <td>4842.449328</td>\n",
       "      <td>49.711859</td>\n",
       "    </tr>\n",
       "    <tr>\n",
       "      <th>4</th>\n",
       "      <td>1980-01-05</td>\n",
       "      <td>1001001</td>\n",
       "      <td>0.436</td>\n",
       "      <td>0.0</td>\n",
       "      <td>12.649203</td>\n",
       "      <td>Rio Caquena En Nacimiento</td>\n",
       "      <td>-18.0769</td>\n",
       "      <td>-69.1961</td>\n",
       "      <td>4842.449328</td>\n",
       "      <td>49.711859</td>\n",
       "    </tr>\n",
       "  </tbody>\n",
       "</table>\n",
       "</div>"
      ],
      "text/plain": [
       "         date  basin_id   flux  precip   temp_max                 gauge_name  \\\n",
       "0  1980-01-01   1001001  0.579     0.0  10.685653  Rio Caquena En Nacimiento   \n",
       "1  1980-01-02   1001001  0.543     0.0  11.470960  Rio Caquena En Nacimiento   \n",
       "2  1980-01-03   1001001  0.482     0.0  11.947457  Rio Caquena En Nacimiento   \n",
       "3  1980-01-04   1001001  0.459     0.0  12.424489  Rio Caquena En Nacimiento   \n",
       "4  1980-01-05   1001001  0.436     0.0  12.649203  Rio Caquena En Nacimiento   \n",
       "\n",
       "       lat      lon    mean_elev   area_km2  \n",
       "0 -18.0769 -69.1961  4842.449328  49.711859  \n",
       "1 -18.0769 -69.1961  4842.449328  49.711859  \n",
       "2 -18.0769 -69.1961  4842.449328  49.711859  \n",
       "3 -18.0769 -69.1961  4842.449328  49.711859  \n",
       "4 -18.0769 -69.1961  4842.449328  49.711859  "
      ]
     },
     "execution_count": 136,
     "metadata": {},
     "output_type": "execute_result"
    }
   ],
   "source": [
    "# Printing top rows to test if we have the right type of data in our object\n",
    "flux.head()"
   ]
  },
  {
   "cell_type": "code",
   "execution_count": 5,
   "metadata": {},
   "outputs": [
    {
     "name": "stdout",
     "output_type": "stream",
     "text": [
      "<class 'pandas.core.frame.DataFrame'>\n",
      "RangeIndex: 4180480 entries, 0 to 4180479\n",
      "Data columns (total 10 columns):\n",
      " #   Column      Dtype  \n",
      "---  ------      -----  \n",
      " 0   date        object \n",
      " 1   basin_id    int64  \n",
      " 2   flux        float64\n",
      " 3   precip      float64\n",
      " 4   temp_max    float64\n",
      " 5   gauge_name  object \n",
      " 6   lat         float64\n",
      " 7   lon         float64\n",
      " 8   mean_elev   float64\n",
      " 9   area_km2    float64\n",
      "dtypes: float64(7), int64(1), object(2)\n",
      "memory usage: 318.9+ MB\n"
     ]
    }
   ],
   "source": [
    "# Understanding the data types of the different columns\n",
    "flux.info()"
   ]
  },
  {
   "cell_type": "code",
   "execution_count": 165,
   "metadata": {},
   "outputs": [],
   "source": [
    "# Let´s transform date column from object to date type\n",
    "flux[\"date\"] =  pd.to_datetime(flux[\"date\"], format=\"%Y/%m/%d\")"
   ]
  },
  {
   "cell_type": "code",
   "execution_count": 7,
   "metadata": {},
   "outputs": [
    {
     "data": {
      "text/plain": [
       "date             0\n",
       "basin_id         0\n",
       "flux             0\n",
       "precip        5443\n",
       "temp_max      5443\n",
       "gauge_name       0\n",
       "lat              0\n",
       "lon              0\n",
       "mean_elev        0\n",
       "area_km2         0\n",
       "dtype: int64"
      ]
     },
     "execution_count": 7,
     "metadata": {},
     "output_type": "execute_result"
    }
   ],
   "source": [
    "# Let´s understand if we have missing valueswithin the data\n",
    "flux.isnull().sum()"
   ]
  },
  {
   "cell_type": "markdown",
   "metadata": {},
   "source": [
    "#### Given the missing values we will plot both precip and temp max over time.\n",
    "\n",
    "#### Hypothesis: Data may be missing because of future values - We will try to understand the dates of the data to make assumptions as to in wich point of time we satnd with this challenge."
   ]
  },
  {
   "cell_type": "code",
   "execution_count": 166,
   "metadata": {},
   "outputs": [],
   "source": [
    "# Creting a smaller datasets to test our hypothesis \n",
    "\n",
    "test_hyp = flux[(flux['basin_id']==1001001) & ((flux['date'] > '2000/01/01') & (flux['date'] < '2021/12/31'))]\n",
    "test_hyp_temp = flux[(flux['basin_id']==1020002) & ((flux['date'] > '2000/01/01') & (flux['date'] < '2021/12/31'))]"
   ]
  },
  {
   "cell_type": "code",
   "execution_count": 16,
   "metadata": {},
   "outputs": [
    {
     "data": {
      "image/png": "[encoded data removed]",
      "text/plain": [
       "<Figure size 864x864 with 1 Axes>"
      ]
     },
     "metadata": {
      "needs_background": "light"
     },
     "output_type": "display_data"
    }
   ],
   "source": [
    "# Let´s plot Precip varible for one of the stations\n",
    "\n",
    "# Create figure and plot space\n",
    "fig, ax = plt.subplots(figsize=(12, 12))\n",
    "\n",
    "# Add x-axis and y-axis\n",
    "ax.bar(test_hyp.date.values,\n",
    "       test_hyp['precip'],\n",
    "       color='blue')\n",
    "\n",
    "# Set title and labels for axes\n",
    "ax.set(xlabel=\"Date\",\n",
    "       ylabel=\"Precipitation\",\n",
    "       title=\"Daily Precipitation\")\n",
    "\n",
    "plt.show()"
   ]
  },
  {
   "cell_type": "code",
   "execution_count": 11,
   "metadata": {},
   "outputs": [
    {
     "data": {
      "image/png": "[encoded data removed]",
      "text/plain": [
       "<Figure size 864x864 with 1 Axes>"
      ]
     },
     "metadata": {
      "needs_background": "light"
     },
     "output_type": "display_data"
    }
   ],
   "source": [
    "# Let´s plot Precip varible for one of the stations\n",
    "\n",
    "# Create figure and plot space\n",
    "fig, ax = plt.subplots(figsize=(12, 12))\n",
    "\n",
    "# Add x-axis and y-axis\n",
    "ax.bar(test_hyp.date.values,\n",
    "       test_hyp['temp_max'],\n",
    "       color='blue')\n",
    "\n",
    "# Set title and labels for axes\n",
    "ax.set(xlabel=\"Date\",\n",
    "       ylabel=\"Temp\",\n",
    "       title=\"Daily Temp\")\n",
    "\n",
    "plt.show()"
   ]
  },
  {
   "cell_type": "markdown",
   "metadata": {},
   "source": [
    "##### Given the different dates we can see that we don´t have the same timeline for every basin\n",
    "##### Finnally we see that seasonality will take an important role on this exercice "
   ]
  },
  {
   "cell_type": "code",
   "execution_count": 7,
   "metadata": {},
   "outputs": [
    {
     "data": {
      "text/html": [
       "<div>\n",
       "<style scoped>\n",
       "    .dataframe tbody tr th:only-of-type {\n",
       "        vertical-align: middle;\n",
       "    }\n",
       "\n",
       "    .dataframe tbody tr th {\n",
       "        vertical-align: top;\n",
       "    }\n",
       "\n",
       "    .dataframe thead th {\n",
       "        text-align: right;\n",
       "    }\n",
       "</style>\n",
       "<table border=\"1\" class=\"dataframe\">\n",
       "  <thead>\n",
       "    <tr style=\"text-align: right;\">\n",
       "      <th></th>\n",
       "      <th>basin_id</th>\n",
       "      <th>flux</th>\n",
       "      <th>precip</th>\n",
       "      <th>temp_max</th>\n",
       "      <th>lat</th>\n",
       "      <th>lon</th>\n",
       "      <th>mean_elev</th>\n",
       "      <th>area_km2</th>\n",
       "    </tr>\n",
       "  </thead>\n",
       "  <tbody>\n",
       "    <tr>\n",
       "      <th>count</th>\n",
       "      <td>4.180480e+06</td>\n",
       "      <td>4.180480e+06</td>\n",
       "      <td>4.175037e+06</td>\n",
       "      <td>4.175037e+06</td>\n",
       "      <td>4.180480e+06</td>\n",
       "      <td>4.180480e+06</td>\n",
       "      <td>4.180480e+06</td>\n",
       "      <td>4.180480e+06</td>\n",
       "    </tr>\n",
       "    <tr>\n",
       "      <th>mean</th>\n",
       "      <td>7.179757e+06</td>\n",
       "      <td>5.253340e+01</td>\n",
       "      <td>2.947445e+00</td>\n",
       "      <td>1.365728e+01</td>\n",
       "      <td>-3.569572e+01</td>\n",
       "      <td>-7.129595e+01</td>\n",
       "      <td>1.760129e+03</td>\n",
       "      <td>2.404876e+03</td>\n",
       "    </tr>\n",
       "    <tr>\n",
       "      <th>std</th>\n",
       "      <td>3.180965e+06</td>\n",
       "      <td>1.676027e+02</td>\n",
       "      <td>8.766749e+00</td>\n",
       "      <td>6.615037e+00</td>\n",
       "      <td>8.047659e+00</td>\n",
       "      <td>1.254339e+00</td>\n",
       "      <td>1.382121e+03</td>\n",
       "      <td>4.322051e+03</td>\n",
       "    </tr>\n",
       "    <tr>\n",
       "      <th>min</th>\n",
       "      <td>1.001001e+06</td>\n",
       "      <td>0.000000e+00</td>\n",
       "      <td>0.000000e+00</td>\n",
       "      <td>-1.160359e+01</td>\n",
       "      <td>-5.494690e+01</td>\n",
       "      <td>-7.366670e+01</td>\n",
       "      <td>1.181229e+02</td>\n",
       "      <td>1.789123e+01</td>\n",
       "    </tr>\n",
       "    <tr>\n",
       "      <th>25%</th>\n",
       "      <td>4.558001e+06</td>\n",
       "      <td>8.680000e-01</td>\n",
       "      <td>0.000000e+00</td>\n",
       "      <td>9.162867e+00</td>\n",
       "      <td>-3.915000e+01</td>\n",
       "      <td>-7.231670e+01</td>\n",
       "      <td>5.847012e+02</td>\n",
       "      <td>3.761001e+02</td>\n",
       "    </tr>\n",
       "    <tr>\n",
       "      <th>50%</th>\n",
       "      <td>7.350003e+06</td>\n",
       "      <td>5.171000e+00</td>\n",
       "      <td>0.000000e+00</td>\n",
       "      <td>1.321396e+01</td>\n",
       "      <td>-3.588420e+01</td>\n",
       "      <td>-7.137190e+01</td>\n",
       "      <td>1.195311e+03</td>\n",
       "      <td>8.205541e+02</td>\n",
       "    </tr>\n",
       "    <tr>\n",
       "      <th>75%</th>\n",
       "      <td>9.416001e+06</td>\n",
       "      <td>2.990000e+01</td>\n",
       "      <td>6.422626e-01</td>\n",
       "      <td>1.805745e+01</td>\n",
       "      <td>-3.126560e+01</td>\n",
       "      <td>-7.050670e+01</td>\n",
       "      <td>3.048161e+03</td>\n",
       "      <td>2.461610e+03</td>\n",
       "    </tr>\n",
       "    <tr>\n",
       "      <th>max</th>\n",
       "      <td>1.293000e+07</td>\n",
       "      <td>1.580500e+04</td>\n",
       "      <td>2.132120e+02</td>\n",
       "      <td>4.081117e+01</td>\n",
       "      <td>-1.784280e+01</td>\n",
       "      <td>-6.763920e+01</td>\n",
       "      <td>4.910152e+03</td>\n",
       "      <td>5.224367e+04</td>\n",
       "    </tr>\n",
       "  </tbody>\n",
       "</table>\n",
       "</div>"
      ],
      "text/plain": [
       "           basin_id          flux        precip      temp_max           lat  \\\n",
       "count  4.180480e+06  4.180480e+06  4.175037e+06  4.175037e+06  4.180480e+06   \n",
       "mean   7.179757e+06  5.253340e+01  2.947445e+00  1.365728e+01 -3.569572e+01   \n",
       "std    3.180965e+06  1.676027e+02  8.766749e+00  6.615037e+00  8.047659e+00   \n",
       "min    1.001001e+06  0.000000e+00  0.000000e+00 -1.160359e+01 -5.494690e+01   \n",
       "25%    4.558001e+06  8.680000e-01  0.000000e+00  9.162867e+00 -3.915000e+01   \n",
       "50%    7.350003e+06  5.171000e+00  0.000000e+00  1.321396e+01 -3.588420e+01   \n",
       "75%    9.416001e+06  2.990000e+01  6.422626e-01  1.805745e+01 -3.126560e+01   \n",
       "max    1.293000e+07  1.580500e+04  2.132120e+02  4.081117e+01 -1.784280e+01   \n",
       "\n",
       "                lon     mean_elev      area_km2  \n",
       "count  4.180480e+06  4.180480e+06  4.180480e+06  \n",
       "mean  -7.129595e+01  1.760129e+03  2.404876e+03  \n",
       "std    1.254339e+00  1.382121e+03  4.322051e+03  \n",
       "min   -7.366670e+01  1.181229e+02  1.789123e+01  \n",
       "25%   -7.231670e+01  5.847012e+02  3.761001e+02  \n",
       "50%   -7.137190e+01  1.195311e+03  8.205541e+02  \n",
       "75%   -7.050670e+01  3.048161e+03  2.461610e+03  \n",
       "max   -6.763920e+01  4.910152e+03  5.224367e+04  "
      ]
     },
     "execution_count": 7,
     "metadata": {},
     "output_type": "execute_result"
    }
   ],
   "source": [
    "# Printing a statistical summary of the data to view some basic statistical details\n",
    "flux.describe()"
   ]
  },
  {
   "cell_type": "code",
   "execution_count": 167,
   "metadata": {},
   "outputs": [],
   "source": [
    "# Les´t first exclude NULL values and filter for flux, precip and temp_max so that we can properly visualize them\n",
    "\n",
    "flux_hist = flux[['flux', 'precip', 'temp_max']]\n",
    "flux_hist = flux_hist.dropna(axis=0)"
   ]
  },
  {
   "cell_type": "code",
   "execution_count": 12,
   "metadata": {},
   "outputs": [
    {
     "data": {
      "image/png": "[encoded data removed]",
      "text/plain": [
       "<Figure size 4320x4320 with 3 Axes>"
      ]
     },
     "metadata": {
      "needs_background": "light"
     },
     "output_type": "display_data"
    }
   ],
   "source": [
    "# Visualizing histograms for important numeric variables\n",
    "\n",
    "cols = 3\n",
    "rows = 3\n",
    "num_cols = flux_hist.select_dtypes(exclude='object').columns\n",
    "fig = plt.figure( figsize=(cols*20, rows*20))\n",
    "for i, col in enumerate(num_cols):\n",
    "    \n",
    "    ax=fig.add_subplot(rows,cols,i+1)\n",
    "    \n",
    "    sns.histplot(x = flux_hist[col], ax = ax)\n",
    "    \n",
    "fig.tight_layout()  \n",
    "plt.show()"
   ]
  },
  {
   "cell_type": "markdown",
   "metadata": {},
   "source": [
    "#### Given the results on flux and precip histograms it´s better to create a box plot to better visualize outliers\n",
    "#### Temp_max follows a normal distribution"
   ]
  },
  {
   "cell_type": "code",
   "execution_count": 7,
   "metadata": {},
   "outputs": [
    {
     "data": {
      "image/png": "[encoded data removed]",
      "text/plain": [
       "<Figure size 432x288 with 1 Axes>"
      ]
     },
     "metadata": {
      "needs_background": "light"
     },
     "output_type": "display_data"
    }
   ],
   "source": [
    "# Box plot for flux\n",
    "\n",
    "bp = plt.boxplot(flux_hist['flux'])\n",
    "plt.show()"
   ]
  },
  {
   "cell_type": "code",
   "execution_count": 8,
   "metadata": {},
   "outputs": [
    {
     "data": {
      "image/png": "[encoded data removed]",
      "text/plain": [
       "<Figure size 432x288 with 1 Axes>"
      ]
     },
     "metadata": {
      "needs_background": "light"
     },
     "output_type": "display_data"
    }
   ],
   "source": [
    "# Box plot for precip\n",
    "\n",
    "bp = plt.boxplot(flux_hist['precip'])\n",
    "plt.show()"
   ]
  },
  {
   "cell_type": "markdown",
   "metadata": {},
   "source": [
    "### Plot flux, temperature and precipitations\n",
    "#### Let´s create a couple of user defined functions for us to plot easily our variables"
   ]
  },
  {
   "cell_type": "code",
   "execution_count": 20,
   "metadata": {},
   "outputs": [],
   "source": [
    "# Creating a function that plot a time series of a specific variable (flux, temp, precip) from a station\n",
    "\n",
    "def plot_one_timeserie(cod_station, variable, min_date='1950-01-01', max_date='2030-01-01'):\n",
    "\n",
    "    timeseries = flux[flux['basin_id'] == cod_station].set_index('date')[variable]\n",
    "\n",
    "    range_date = timeseries.loc[min_date:max_date]\n",
    "\n",
    "    ax = sns.lineplot(data = range_date)\n",
    "    ax.set(title = f\"{flux[flux.basin_id == cod_station]['basin_id'].tolist()[0]}\")\n",
    "\n",
    "    plt.show()"
   ]
  },
  {
   "cell_type": "code",
   "execution_count": 23,
   "metadata": {},
   "outputs": [
    {
     "data": {
      "image/png": "[encoded data removed]",
      "text/plain": [
       "<Figure size 432x288 with 1 Axes>"
      ]
     },
     "metadata": {
      "needs_background": "light"
     },
     "output_type": "display_data"
    }
   ],
   "source": [
    "# Testing our UDF with flux and one basin_id\n",
    "\n",
    "plot_one_timeserie(1001003, 'flux', '1980-01-01', '2021-01-01')"
   ]
  },
  {
   "cell_type": "code",
   "execution_count": 26,
   "metadata": {},
   "outputs": [
    {
     "data": {
      "image/png": "[encoded data removed]",
      "text/plain": [
       "<Figure size 432x288 with 1 Axes>"
      ]
     },
     "metadata": {
      "needs_background": "light"
     },
     "output_type": "display_data"
    }
   ],
   "source": [
    "# Testing our UDF with temp_max and one basin_id\n",
    "\n",
    "plot_one_timeserie(1041002, 'temp_max', '1980-01-01', '2021-01-01')"
   ]
  },
  {
   "cell_type": "code",
   "execution_count": 27,
   "metadata": {},
   "outputs": [
    {
     "data": {
      "image/png": "[encoded data removed]",
      "text/plain": [
       "<Figure size 432x288 with 1 Axes>"
      ]
     },
     "metadata": {
      "needs_background": "light"
     },
     "output_type": "display_data"
    }
   ],
   "source": [
    "# Testing our UDF with precip and one basin_id\n",
    "\n",
    "plot_one_timeserie(1041002, 'precip', '1980-01-01', '2021-01-01')"
   ]
  },
  {
   "cell_type": "code",
   "execution_count": 32,
   "metadata": {},
   "outputs": [],
   "source": [
    "# Now let´s write a function that plots the 3 variables at the same time\n",
    "\n",
    "def plot_three_timeseries(cod_station, min_date='1950-01-01', max_date='2030-01-01'):\n",
    "\n",
    "    timeseries_2 = flux[flux.basin_id == cod_station].set_index('date')\n",
    "\n",
    "    range_date = timeseries_2.loc[min_date:max_date][['flux', 'precip', 'temp_max']]\n",
    "    \n",
    "    normalized = (range_date - range_date.mean()) / range_date.std()\n",
    "\n",
    "    ax = sns.lineplot(data = normalized)\n",
    "    ax.set(title = f\"{timeseries_2['basin_id'].tolist()[0]}\")\n",
    "\n",
    "    plt.show()"
   ]
  },
  {
   "cell_type": "code",
   "execution_count": 35,
   "metadata": {},
   "outputs": [
    {
     "data": {
      "image/png": "[encoded data removed]",
      "text/plain": [
       "<Figure size 432x288 with 1 Axes>"
      ]
     },
     "metadata": {
      "needs_background": "light"
     },
     "output_type": "display_data"
    }
   ],
   "source": [
    "# Testing our UDF\n",
    "\n",
    "plot_three_timeseries(1201001, '1980-01-01', '2021-01-01')"
   ]
  },
  {
   "cell_type": "markdown",
   "metadata": {},
   "source": [
    "### Extreme variable\n",
    "\n",
    "#### Let´s create the extreme flag for flux, temp and precip\n",
    "\n",
    "#### We will:\n",
    "\n",
    "###### 1. Determine that a data point is considered extreme when the value is over the 95 percentile of the distribution for that specific season\n",
    "###### 2. Determine this by month, not by seasons. Given that during witner for example there might be different extreme temperatures. An extreme temperature during december might be considered normal in january or febuary for example."
   ]
  },
  {
   "cell_type": "code",
   "execution_count": 168,
   "metadata": {},
   "outputs": [],
   "source": [
    "# Let´s crete a new dataframe without null values\n",
    "\n",
    "df = flux.dropna(axis=0)"
   ]
  },
  {
   "cell_type": "code",
   "execution_count": 40,
   "metadata": {},
   "outputs": [
    {
     "name": "stdout",
     "output_type": "stream",
     "text": [
      "262.0\n"
     ]
    }
   ],
   "source": [
    "# Let´s determine the extremes for the different variables\n",
    "\n",
    "threshhold_flux = df.flux.quantile(0.95) # 95th percentile\n",
    "print(threshhold_flux) # Any data point above the threshold is considered extreme"
   ]
  },
  {
   "cell_type": "markdown",
   "metadata": {},
   "source": [
    "#### But we need a threshold for every month of the year"
   ]
  },
  {
   "cell_type": "code",
   "execution_count": 169,
   "metadata": {},
   "outputs": [],
   "source": [
    "# Let´s first create a month column we will needed later also for our predictive model\n",
    "df['month'] = df['date'].dt.month"
   ]
  },
  {
   "cell_type": "code",
   "execution_count": 170,
   "metadata": {},
   "outputs": [],
   "source": [
    "# Let´s create a threshold for every month of the year\n",
    "\n",
    "range_t = []\n",
    "\n",
    "for i in range(1,13): #(12 months)\n",
    "    df_group = df.loc[df['month'] == i]\n",
    "    threshhold_flux = df_group.flux.quantile(0.95) # 95th percentile\n",
    "    range_t.append(threshhold_flux)"
   ]
  },
  {
   "cell_type": "code",
   "execution_count": 171,
   "metadata": {},
   "outputs": [],
   "source": [
    "# Let´s create a dataframe by month and flux threshold \n",
    "\n",
    "t_df['threshold'] = pd.DataFrame(range_t)\n",
    "t_df['month'] = range(1,13)"
   ]
  },
  {
   "cell_type": "code",
   "execution_count": 172,
   "metadata": {},
   "outputs": [],
   "source": [
    "# Let´s tag those dates with extreme flux in the original dataset\n",
    "\n",
    "df = pd.merge(df, t_df, on ='month', how ='inner')"
   ]
  },
  {
   "cell_type": "markdown",
   "metadata": {},
   "source": [
    "### Creating flux_extreme variable\n",
    "\n"
   ]
  },
  {
   "cell_type": "code",
   "execution_count": 173,
   "metadata": {},
   "outputs": [],
   "source": [
    "# Adding flux extreme column to our dataframe\n",
    "df['flux_extreme'] = np.where(\n",
    "    df['flux'] >= df['threshold'], 1, np.where(\n",
    "    df['flux'] >  df['threshold'], 0, 0)) "
   ]
  },
  {
   "cell_type": "code",
   "execution_count": 174,
   "metadata": {},
   "outputs": [
    {
     "data": {
      "text/html": [
       "<div>\n",
       "<style scoped>\n",
       "    .dataframe tbody tr th:only-of-type {\n",
       "        vertical-align: middle;\n",
       "    }\n",
       "\n",
       "    .dataframe tbody tr th {\n",
       "        vertical-align: top;\n",
       "    }\n",
       "\n",
       "    .dataframe thead th {\n",
       "        text-align: right;\n",
       "    }\n",
       "</style>\n",
       "<table border=\"1\" class=\"dataframe\">\n",
       "  <thead>\n",
       "    <tr style=\"text-align: right;\">\n",
       "      <th></th>\n",
       "      <th>date</th>\n",
       "      <th>basin_id</th>\n",
       "      <th>flux</th>\n",
       "      <th>precip</th>\n",
       "      <th>temp_max</th>\n",
       "      <th>gauge_name</th>\n",
       "      <th>lat</th>\n",
       "      <th>lon</th>\n",
       "      <th>mean_elev</th>\n",
       "      <th>area_km2</th>\n",
       "      <th>month</th>\n",
       "      <th>0</th>\n",
       "      <th>threshold</th>\n",
       "      <th>flux_extreme</th>\n",
       "    </tr>\n",
       "  </thead>\n",
       "  <tbody>\n",
       "    <tr>\n",
       "      <th>115771</th>\n",
       "      <td>1983-01-01</td>\n",
       "      <td>5410002</td>\n",
       "      <td>227.0</td>\n",
       "      <td>0.000000</td>\n",
       "      <td>16.240876</td>\n",
       "      <td>Rio Aconcagua En Chacabuquito</td>\n",
       "      <td>-32.8503</td>\n",
       "      <td>-70.5094</td>\n",
       "      <td>3177.583522</td>\n",
       "      <td>2113.422512</td>\n",
       "      <td>1</td>\n",
       "      <td>184.0</td>\n",
       "      <td>184.0</td>\n",
       "      <td>1</td>\n",
       "    </tr>\n",
       "    <tr>\n",
       "      <th>115772</th>\n",
       "      <td>1983-01-02</td>\n",
       "      <td>5410002</td>\n",
       "      <td>210.0</td>\n",
       "      <td>0.003817</td>\n",
       "      <td>13.744670</td>\n",
       "      <td>Rio Aconcagua En Chacabuquito</td>\n",
       "      <td>-32.8503</td>\n",
       "      <td>-70.5094</td>\n",
       "      <td>3177.583522</td>\n",
       "      <td>2113.422512</td>\n",
       "      <td>1</td>\n",
       "      <td>184.0</td>\n",
       "      <td>184.0</td>\n",
       "      <td>1</td>\n",
       "    </tr>\n",
       "    <tr>\n",
       "      <th>115773</th>\n",
       "      <td>1983-01-03</td>\n",
       "      <td>5410002</td>\n",
       "      <td>193.0</td>\n",
       "      <td>0.000000</td>\n",
       "      <td>14.747746</td>\n",
       "      <td>Rio Aconcagua En Chacabuquito</td>\n",
       "      <td>-32.8503</td>\n",
       "      <td>-70.5094</td>\n",
       "      <td>3177.583522</td>\n",
       "      <td>2113.422512</td>\n",
       "      <td>1</td>\n",
       "      <td>184.0</td>\n",
       "      <td>184.0</td>\n",
       "      <td>1</td>\n",
       "    </tr>\n",
       "    <tr>\n",
       "      <th>115774</th>\n",
       "      <td>1983-01-04</td>\n",
       "      <td>5410002</td>\n",
       "      <td>195.0</td>\n",
       "      <td>0.000000</td>\n",
       "      <td>16.973446</td>\n",
       "      <td>Rio Aconcagua En Chacabuquito</td>\n",
       "      <td>-32.8503</td>\n",
       "      <td>-70.5094</td>\n",
       "      <td>3177.583522</td>\n",
       "      <td>2113.422512</td>\n",
       "      <td>1</td>\n",
       "      <td>184.0</td>\n",
       "      <td>184.0</td>\n",
       "      <td>1</td>\n",
       "    </tr>\n",
       "    <tr>\n",
       "      <th>115775</th>\n",
       "      <td>1983-01-05</td>\n",
       "      <td>5410002</td>\n",
       "      <td>218.0</td>\n",
       "      <td>0.000000</td>\n",
       "      <td>16.357621</td>\n",
       "      <td>Rio Aconcagua En Chacabuquito</td>\n",
       "      <td>-32.8503</td>\n",
       "      <td>-70.5094</td>\n",
       "      <td>3177.583522</td>\n",
       "      <td>2113.422512</td>\n",
       "      <td>1</td>\n",
       "      <td>184.0</td>\n",
       "      <td>184.0</td>\n",
       "      <td>1</td>\n",
       "    </tr>\n",
       "  </tbody>\n",
       "</table>\n",
       "</div>"
      ],
      "text/plain": [
       "             date  basin_id   flux    precip   temp_max  \\\n",
       "115771 1983-01-01   5410002  227.0  0.000000  16.240876   \n",
       "115772 1983-01-02   5410002  210.0  0.003817  13.744670   \n",
       "115773 1983-01-03   5410002  193.0  0.000000  14.747746   \n",
       "115774 1983-01-04   5410002  195.0  0.000000  16.973446   \n",
       "115775 1983-01-05   5410002  218.0  0.000000  16.357621   \n",
       "\n",
       "                           gauge_name      lat      lon    mean_elev  \\\n",
       "115771  Rio Aconcagua En Chacabuquito -32.8503 -70.5094  3177.583522   \n",
       "115772  Rio Aconcagua En Chacabuquito -32.8503 -70.5094  3177.583522   \n",
       "115773  Rio Aconcagua En Chacabuquito -32.8503 -70.5094  3177.583522   \n",
       "115774  Rio Aconcagua En Chacabuquito -32.8503 -70.5094  3177.583522   \n",
       "115775  Rio Aconcagua En Chacabuquito -32.8503 -70.5094  3177.583522   \n",
       "\n",
       "           area_km2  month      0  threshold  flux_extreme  \n",
       "115771  2113.422512      1  184.0      184.0             1  \n",
       "115772  2113.422512      1  184.0      184.0             1  \n",
       "115773  2113.422512      1  184.0      184.0             1  \n",
       "115774  2113.422512      1  184.0      184.0             1  \n",
       "115775  2113.422512      1  184.0      184.0             1  "
      ]
     },
     "execution_count": 174,
     "metadata": {},
     "output_type": "execute_result"
    }
   ],
   "source": [
    "# Checking head flux extreme values\n",
    "\n",
    "check_flux = df.query(\"flux_extreme == 1\")\n",
    "check_flux.head()"
   ]
  },
  {
   "cell_type": "markdown",
   "metadata": {},
   "source": [
    "### Both temp extreme and precip extreme can be calculated the same way. Not done here for time constrains.\n",
    "\n",
    "## Modeling - ML models to predict extreme flux\n",
    "\n",
    "#### We can´t use temp_max and precip variables because we don´t know the future (and assuming we don´t have an accurate prediction for the next day for example). But we can use the previous day data to understand if our model can accurately predict extreme flux"
   ]
  },
  {
   "cell_type": "code",
   "execution_count": 178,
   "metadata": {},
   "outputs": [
    {
     "name": "stdout",
     "output_type": "stream",
     "text": [
      "        date  basin_id   flux  precip   temp_max                 gauge_name  \\\n",
      "0 1980-01-01   1001001  0.579     0.0  10.685653  Rio Caquena En Nacimiento   \n",
      "1 1980-01-02   1001001  0.543     0.0  11.470960  Rio Caquena En Nacimiento   \n",
      "2 1980-01-03   1001001  0.482     0.0  11.947457  Rio Caquena En Nacimiento   \n",
      "3 1980-01-04   1001001  0.459     0.0  12.424489  Rio Caquena En Nacimiento   \n",
      "4 1980-01-05   1001001  0.436     0.0  12.649203  Rio Caquena En Nacimiento   \n",
      "\n",
      "       lat      lon    mean_elev   area_km2  month      0  threshold  \\\n",
      "0 -18.0769 -69.1961  4842.449328  49.711859      1  184.0      184.0   \n",
      "1 -18.0769 -69.1961  4842.449328  49.711859      1  184.0      184.0   \n",
      "2 -18.0769 -69.1961  4842.449328  49.711859      1  184.0      184.0   \n",
      "3 -18.0769 -69.1961  4842.449328  49.711859      1  184.0      184.0   \n",
      "4 -18.0769 -69.1961  4842.449328  49.711859      1  184.0      184.0   \n",
      "\n",
      "   flux_extreme  precip_previous  \n",
      "0             0              NaN  \n",
      "1             0              0.0  \n",
      "2             0              0.0  \n",
      "3             0              0.0  \n",
      "4             0              0.0  \n"
     ]
    }
   ],
   "source": [
    "# Let´s start by shifting to previous day data for precip and temp\n",
    "\n",
    "freq = 'D' # 'D' for days\n",
    "\n",
    "d=df.set_index([df.date, 'basin_id'])['precip'].to_dict()\n",
    "df['precip_previous']=(df.set_index([df['date'] - pd.Timedelta(1, unit=freq), 'basin_id']).\n",
    "                       index.to_series().map(d).reset_index(drop=True))\n",
    "\n",
    "print(df.head())"
   ]
  },
  {
   "cell_type": "code",
   "execution_count": 181,
   "metadata": {},
   "outputs": [],
   "source": [
    "# ...and the same with temp\n",
    "\n",
    "d2=df.set_index([df.date, 'basin_id'])['temp_max'].to_dict()\n",
    "df['temp_previous']=(df.set_index([df['date'] - pd.Timedelta(1, unit=freq), 'basin_id']).\n",
    "                       index.to_series().map(d2).reset_index(drop=True))"
   ]
  },
  {
   "cell_type": "code",
   "execution_count": 186,
   "metadata": {},
   "outputs": [],
   "source": [
    "# ...and finnaly previous day flux \n",
    "\n",
    "d3=df.set_index([df.date, 'basin_id'])['flux'].to_dict()\n",
    "df['flux_previous']=(df.set_index([df['date'] - pd.Timedelta(1, unit=freq), 'basin_id']).\n",
    "                       index.to_series().map(d3).reset_index(drop=True))"
   ]
  },
  {
   "cell_type": "code",
   "execution_count": 187,
   "metadata": {},
   "outputs": [
    {
     "data": {
      "text/html": [
       "<div>\n",
       "<style scoped>\n",
       "    .dataframe tbody tr th:only-of-type {\n",
       "        vertical-align: middle;\n",
       "    }\n",
       "\n",
       "    .dataframe tbody tr th {\n",
       "        vertical-align: top;\n",
       "    }\n",
       "\n",
       "    .dataframe thead th {\n",
       "        text-align: right;\n",
       "    }\n",
       "</style>\n",
       "<table border=\"1\" class=\"dataframe\">\n",
       "  <thead>\n",
       "    <tr style=\"text-align: right;\">\n",
       "      <th></th>\n",
       "      <th>date</th>\n",
       "      <th>basin_id</th>\n",
       "      <th>flux</th>\n",
       "      <th>precip</th>\n",
       "      <th>temp_max</th>\n",
       "      <th>gauge_name</th>\n",
       "      <th>lat</th>\n",
       "      <th>lon</th>\n",
       "      <th>mean_elev</th>\n",
       "      <th>area_km2</th>\n",
       "      <th>month</th>\n",
       "      <th>0</th>\n",
       "      <th>threshold</th>\n",
       "      <th>flux_extreme</th>\n",
       "      <th>precip_previous</th>\n",
       "      <th>temp_previous</th>\n",
       "      <th>year</th>\n",
       "      <th>day</th>\n",
       "      <th>flux_previous</th>\n",
       "    </tr>\n",
       "  </thead>\n",
       "  <tbody>\n",
       "    <tr>\n",
       "      <th>4175032</th>\n",
       "      <td>2019-12-27</td>\n",
       "      <td>12930001</td>\n",
       "      <td>0.692</td>\n",
       "      <td>6.280501e-02</td>\n",
       "      <td>15.381777</td>\n",
       "      <td>Rio Robalo En Puerto Williams</td>\n",
       "      <td>-54.9469</td>\n",
       "      <td>-67.6392</td>\n",
       "      <td>520.849289</td>\n",
       "      <td>20.645617</td>\n",
       "      <td>12</td>\n",
       "      <td>233.9886</td>\n",
       "      <td>233.9886</td>\n",
       "      <td>0</td>\n",
       "      <td>0.758884</td>\n",
       "      <td>15.073987</td>\n",
       "      <td>2019</td>\n",
       "      <td>4</td>\n",
       "      <td>0.705</td>\n",
       "    </tr>\n",
       "    <tr>\n",
       "      <th>4175033</th>\n",
       "      <td>2019-12-28</td>\n",
       "      <td>12930001</td>\n",
       "      <td>0.803</td>\n",
       "      <td>0.000000e+00</td>\n",
       "      <td>14.580901</td>\n",
       "      <td>Rio Robalo En Puerto Williams</td>\n",
       "      <td>-54.9469</td>\n",
       "      <td>-67.6392</td>\n",
       "      <td>520.849289</td>\n",
       "      <td>20.645617</td>\n",
       "      <td>12</td>\n",
       "      <td>233.9886</td>\n",
       "      <td>233.9886</td>\n",
       "      <td>0</td>\n",
       "      <td>0.062805</td>\n",
       "      <td>15.381777</td>\n",
       "      <td>2019</td>\n",
       "      <td>5</td>\n",
       "      <td>0.692</td>\n",
       "    </tr>\n",
       "    <tr>\n",
       "      <th>4175034</th>\n",
       "      <td>2019-12-29</td>\n",
       "      <td>12930001</td>\n",
       "      <td>0.784</td>\n",
       "      <td>0.000000e+00</td>\n",
       "      <td>13.754139</td>\n",
       "      <td>Rio Robalo En Puerto Williams</td>\n",
       "      <td>-54.9469</td>\n",
       "      <td>-67.6392</td>\n",
       "      <td>520.849289</td>\n",
       "      <td>20.645617</td>\n",
       "      <td>12</td>\n",
       "      <td>233.9886</td>\n",
       "      <td>233.9886</td>\n",
       "      <td>0</td>\n",
       "      <td>0.000000</td>\n",
       "      <td>14.580901</td>\n",
       "      <td>2019</td>\n",
       "      <td>6</td>\n",
       "      <td>0.803</td>\n",
       "    </tr>\n",
       "    <tr>\n",
       "      <th>4175035</th>\n",
       "      <td>2019-12-30</td>\n",
       "      <td>12930001</td>\n",
       "      <td>0.724</td>\n",
       "      <td>1.001864e+00</td>\n",
       "      <td>13.820327</td>\n",
       "      <td>Rio Robalo En Puerto Williams</td>\n",
       "      <td>-54.9469</td>\n",
       "      <td>-67.6392</td>\n",
       "      <td>520.849289</td>\n",
       "      <td>20.645617</td>\n",
       "      <td>12</td>\n",
       "      <td>233.9886</td>\n",
       "      <td>233.9886</td>\n",
       "      <td>0</td>\n",
       "      <td>0.000000</td>\n",
       "      <td>13.754139</td>\n",
       "      <td>2019</td>\n",
       "      <td>0</td>\n",
       "      <td>0.784</td>\n",
       "    </tr>\n",
       "    <tr>\n",
       "      <th>4175036</th>\n",
       "      <td>2019-12-31</td>\n",
       "      <td>12930001</td>\n",
       "      <td>0.646</td>\n",
       "      <td>9.100000e-15</td>\n",
       "      <td>13.128466</td>\n",
       "      <td>Rio Robalo En Puerto Williams</td>\n",
       "      <td>-54.9469</td>\n",
       "      <td>-67.6392</td>\n",
       "      <td>520.849289</td>\n",
       "      <td>20.645617</td>\n",
       "      <td>12</td>\n",
       "      <td>233.9886</td>\n",
       "      <td>233.9886</td>\n",
       "      <td>0</td>\n",
       "      <td>1.001864</td>\n",
       "      <td>13.820327</td>\n",
       "      <td>2019</td>\n",
       "      <td>1</td>\n",
       "      <td>0.724</td>\n",
       "    </tr>\n",
       "  </tbody>\n",
       "</table>\n",
       "</div>"
      ],
      "text/plain": [
       "              date  basin_id   flux        precip   temp_max  \\\n",
       "4175032 2019-12-27  12930001  0.692  6.280501e-02  15.381777   \n",
       "4175033 2019-12-28  12930001  0.803  0.000000e+00  14.580901   \n",
       "4175034 2019-12-29  12930001  0.784  0.000000e+00  13.754139   \n",
       "4175035 2019-12-30  12930001  0.724  1.001864e+00  13.820327   \n",
       "4175036 2019-12-31  12930001  0.646  9.100000e-15  13.128466   \n",
       "\n",
       "                            gauge_name      lat      lon   mean_elev  \\\n",
       "4175032  Rio Robalo En Puerto Williams -54.9469 -67.6392  520.849289   \n",
       "4175033  Rio Robalo En Puerto Williams -54.9469 -67.6392  520.849289   \n",
       "4175034  Rio Robalo En Puerto Williams -54.9469 -67.6392  520.849289   \n",
       "4175035  Rio Robalo En Puerto Williams -54.9469 -67.6392  520.849289   \n",
       "4175036  Rio Robalo En Puerto Williams -54.9469 -67.6392  520.849289   \n",
       "\n",
       "          area_km2  month         0  threshold  flux_extreme  precip_previous  \\\n",
       "4175032  20.645617     12  233.9886   233.9886             0         0.758884   \n",
       "4175033  20.645617     12  233.9886   233.9886             0         0.062805   \n",
       "4175034  20.645617     12  233.9886   233.9886             0         0.000000   \n",
       "4175035  20.645617     12  233.9886   233.9886             0         0.000000   \n",
       "4175036  20.645617     12  233.9886   233.9886             0         1.001864   \n",
       "\n",
       "         temp_previous  year  day  flux_previous  \n",
       "4175032      15.073987  2019    4          0.705  \n",
       "4175033      15.381777  2019    5          0.692  \n",
       "4175034      14.580901  2019    6          0.803  \n",
       "4175035      13.754139  2019    0          0.784  \n",
       "4175036      13.820327  2019    1          0.724  "
      ]
     },
     "execution_count": 187,
     "metadata": {},
     "output_type": "execute_result"
    }
   ],
   "source": [
    "# Testing with some examples that our shift is working\n",
    "\n",
    "df.tail()"
   ]
  },
  {
   "cell_type": "code",
   "execution_count": 183,
   "metadata": {},
   "outputs": [],
   "source": [
    "# Creating two more date variables (year and day) we can test if they \n",
    "# are significant with the feature importance of the model later\n",
    "\n",
    "df['year'] = df['date'].dt.year\n",
    "df['day'] = df['date'].dt.weekday"
   ]
  },
  {
   "cell_type": "code",
   "execution_count": 188,
   "metadata": {},
   "outputs": [],
   "source": [
    "# Let´s sort our dataframe by date\n",
    "\n",
    "df = df.sort_values(by='date')"
   ]
  },
  {
   "cell_type": "code",
   "execution_count": 199,
   "metadata": {},
   "outputs": [
    {
     "name": "stdout",
     "output_type": "stream",
     "text": [
      "(3340029, 7)\n",
      "(3340029,)\n",
      "(417504, 7)\n",
      "(417504,)\n",
      "(417504, 7)\n",
      "(417504,)\n"
     ]
    },
    {
     "data": {
      "text/plain": [
       "(None, None)"
      ]
     },
     "execution_count": 199,
     "metadata": {},
     "output_type": "execute_result"
    }
   ],
   "source": [
    "# Train/test split\n",
    "\n",
    "# Let's say we want to split the data in 80:10:10 for train:valid:test dataset\n",
    "train_size=0.8\n",
    "\n",
    "# filtering for the columns that we think are important\n",
    "\n",
    "X = df[['basin_id', \"month\", \"day\", \"year\", \"precip_previous\", \"temp_previous\", \"flux_previous\"]].copy()\n",
    "y = df['flux_extreme']\n",
    "\n",
    "# In the first step we will split the data in training and remaining dataset\n",
    "X_train, X_rem, Y_train, y_rem = train_test_split(X,y, train_size=0.8, random_state=384)\n",
    "\n",
    "# Now since we want the valid and test size to be equal (10% each of overall data). \n",
    "# we have to define valid_size=0.5 (that is 50% of remaining data)\n",
    "test_size = 0.5\n",
    "X_val, X_test, Y_val, Y_test = train_test_split(X_rem,y_rem, test_size=0.5, random_state=384)\n",
    "\n",
    "print(X_train.shape), print(Y_train.shape)\n",
    "print(X_val.shape), print(Y_val.shape)\n",
    "print(X_test.shape), print(Y_test.shape)"
   ]
  },
  {
   "cell_type": "markdown",
   "metadata": {},
   "source": [
    "### Let´s start with LGBM\n",
    "\n",
    "#### The process for all algorithms is:\n",
    "\n",
    "##### 1. Fit a basic model\n",
    "##### 2. Understand feature importance\n",
    "##### 3. Creating a randomized Serch CV\n",
    "##### 4. Predictions with best parameters"
   ]
  },
  {
   "cell_type": "code",
   "execution_count": 200,
   "metadata": {},
   "outputs": [],
   "source": [
    "# SMAPE: Symmetric mean absolute percentage error (adjusted MAPE)\n",
    "def smape(preds, target):\n",
    "    n = len(preds)\n",
    "    masked_arr = ~((preds == 0) & (target == 0))\n",
    "    preds, target = preds[masked_arr], target[masked_arr]\n",
    "    num = np.abs(preds-target)\n",
    "    denom = np.abs(preds)+np.abs(target)\n",
    "    smape_val = (200*np.sum(num/denom))/n\n",
    "    return smape_val\n",
    "\n",
    "def lgbm_smape(y_true, y_pred):\n",
    "    smape_val = smape(y_true, y_pred)\n",
    "    return 'SMAPE', smape_val, False"
   ]
  },
  {
   "cell_type": "code",
   "execution_count": 201,
   "metadata": {},
   "outputs": [
    {
     "name": "stdout",
     "output_type": "stream",
     "text": [
      "TRAIN SMAPE: 190.65645705472002\n",
      "VALID SMAPE: 190.59534130394985\n"
     ]
    }
   ],
   "source": [
    "# basic model to understand metrics\n",
    "first_model = lgb.LGBMRegressor(random_state=384).fit(X_train, Y_train, \n",
    "                                                      eval_metric= lambda y_true, y_pred: [lgbm_smape(y_true, y_pred)])\n",
    "\n",
    "print(\"TRAIN SMAPE:\", smape(Y_train, first_model.predict(X_train)))\n",
    "print(\"VALID SMAPE:\", smape(Y_val, first_model.predict(X_val)))"
   ]
  },
  {
   "cell_type": "code",
   "execution_count": 202,
   "metadata": {},
   "outputs": [
    {
     "name": "stdout",
     "output_type": "stream",
     "text": [
      "           feature  split       gain\n",
      "6    flux_previous    780  81.056315\n",
      "1            month    516  16.700836\n",
      "4  precip_previous    413   1.007420\n",
      "0         basin_id    838   0.804786\n",
      "5    temp_previous    252   0.358602\n",
      "3             year    128   0.047047\n",
      "2              day     73   0.024994\n"
     ]
    }
   ],
   "source": [
    "# Feature importance of basic model\n",
    "def plot_lgb_importances(model, plot=False, num=10):\n",
    "    from matplotlib import pyplot as plt\n",
    "    import seaborn as sns\n",
    "\n",
    "    # SKLEARN API\n",
    "    gain = model.booster_.feature_importance(importance_type='gain')\n",
    "    feat_imp = pd.DataFrame({'feature': model.feature_name_,\n",
    "                             'split': model.booster_.feature_importance(importance_type='split'),\n",
    "                             'gain': 100 * gain / gain.sum()}).sort_values('gain', ascending=False)\n",
    "    if plot:\n",
    "        plt.figure(figsize=(10, 10))\n",
    "        sns.set(font_scale=1)\n",
    "        sns.barplot(x=\"gain\", y=\"feature\", data=feat_imp[0:25])\n",
    "        plt.title('feature')\n",
    "        plt.tight_layout()\n",
    "        plt.show()\n",
    "    else:\n",
    "        print(feat_imp.head(num))\n",
    "        return feat_imp\n",
    "\n",
    "feature_imp_df = plot_lgb_importances(first_model, num=50)"
   ]
  },
  {
   "cell_type": "code",
   "execution_count": 203,
   "metadata": {},
   "outputs": [],
   "source": [
    "# Parameters to search best params\n",
    "lgbm_params = {\n",
    "\"num_leaves\":[10,20,31], # Default 31\n",
    "\"max_depth\":[-1, 20, 30], # Default -1\n",
    "\"learning_rate\":[0.1, 0.05], # Default 0.1\n",
    "\"n_estimators\":[10000,15000], # Default 100\n",
    "\"min_split_gain\":[0.0, 2,5], # Default 0\n",
    "\"min_child_samples\":[10, 20, 30], # Default 20\n",
    "\"colsample_bytree\":[0.5, 0.8, 1.0], # Default 1\n",
    "\"reg_alpha\":[0.0, 0.5, 1], # Default 0\n",
    "\"reg_lambda\":[0.0, 0.5, 1] # Default 0\n",
    "}\n",
    "\n",
    "model = lgb.LGBMRegressor(random_state=384)"
   ]
  },
  {
   "cell_type": "code",
   "execution_count": null,
   "metadata": {},
   "outputs": [
    {
     "name": "stdout",
     "output_type": "stream",
     "text": [
      "Fitting 5 folds for each of 10 candidates, totalling 50 fits\n"
     ]
    }
   ],
   "source": [
    "# Creating a randomized Serch CV\n",
    "rsearch = RandomizedSearchCV(model, lgbm_params, random_state=384, scoring=smape, verbose = True, n_jobs = -1).fit( X_train, Y_train )"
   ]
  },
  {
   "cell_type": "code",
   "execution_count": null,
   "metadata": {},
   "outputs": [],
   "source": [
    "# Checking the best parameters\n",
    "rsearch.best_params_"
   ]
  },
  {
   "cell_type": "code",
   "execution_count": null,
   "metadata": {},
   "outputs": [],
   "source": [
    "# Tunning the model and fitting\n",
    "model_tuned2 = lgb.LGBMRegressor(**rsearch.best_params_, random_state=384, metric = \"custom\")\n",
    "\n",
    "model_tuned2.fit(\n",
    "    X_train, Y_train,\n",
    "    eval_metric= lambda y_true, y_pred: [lgbm_smape(y_true, y_pred)],\n",
    "    eval_set = [(X_train, Y_train), (X_val, Y_val)],\n",
    "    eval_names = [\"Train\", \"Valid\"],\n",
    "    early_stopping_rounds= 10000, verbose = 500\n",
    ")\n",
    "print(\"Best Iteration:\", model_tuned2.booster_.best_iteration)"
   ]
  },
  {
   "cell_type": "markdown",
   "metadata": {},
   "source": [
    "#### * The randomized search takes 2+ hour to run in my local computer. \n",
    "##### Similar technique is used for other algorithms like random forest, xgbost etc...\n",
    "##### Because of time thw rest of the challenge is left for discussion"
   ]
  }
 ],
 "metadata": {
  "kernelspec": {
   "display_name": "Python 3",
   "language": "python",
   "name": "python3"
  },
  "language_info": {
   "codemirror_mode": {
    "name": "ipython",
    "version": 3
   },
   "file_extension": ".py",
   "mimetype": "text/x-python",
   "name": "python",
   "nbconvert_exporter": "python",
   "pygments_lexer": "ipython3",
   "version": "3.8.3"
  }
 },
 "nbformat": 4,
 "nbformat_minor": 4
}
